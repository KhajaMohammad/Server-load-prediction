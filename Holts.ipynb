{
 "cells": [
  {
   "cell_type": "code",
   "execution_count": 14,
   "metadata": {},
   "outputs": [],
   "source": [
    "import pywt\n",
    "import pandas as pd\n",
    "import numpy as np\n",
    "import matplotlib as mpl\n",
    "import matplotlib.pyplot as plt\n",
    "from  matplotlib.pyplot import figure"
   ]
  },
  {
   "cell_type": "code",
   "execution_count": 15,
   "metadata": {},
   "outputs": [],
   "source": [
    "mydata = pd.read_csv(\"FinalData.csv\")\n",
    "lst = mydata.iloc[0].to_numpy()\n",
    "lst = lst[1:]\n",
    "mydata = mydata.T # transpose of the data frame\n",
    "\n",
    "ind = mydata.index.values.tolist()\n",
    "ind = ind[1:]"
   ]
  },
  {
   "cell_type": "code",
   "execution_count": 28,
   "metadata": {},
   "outputs": [
    {
     "name": "stdout",
     "output_type": "stream",
     "text": [
      "            linear components\n",
      "7/1/2015            17.108253\n",
      "7/2/2015             9.455449\n",
      "7/3/2015            11.256570\n",
      "7/4/2015            10.524519\n",
      "7/5/2015             9.921956\n",
      "...                       ...\n",
      "12/27/2016          17.896234\n",
      "12/28/2016          19.325962\n",
      "12/29/2016          20.033494\n",
      "12/30/2016          19.428525\n",
      "12/31/2016          19.175240\n",
      "\n",
      "[550 rows x 1 columns]\n"
     ]
    },
    {
     "name": "stderr",
     "output_type": "stream",
     "text": [
      "C:\\Users\\Lenovo\\anaconda3\\lib\\site-packages\\statsmodels\\tsa\\base\\tsa_model.py:524: ValueWarning: No frequency information was provided, so inferred frequency D will be used.\n",
      "  warnings.warn('No frequency information was'\n",
      "C:\\Users\\Lenovo\\anaconda3\\lib\\site-packages\\statsmodels\\tsa\\holtwinters\\model.py:427: FutureWarning: After 0.13 initialization must be handled at model creation\n",
      "  warnings.warn(\n"
     ]
    },
    {
     "name": "stdout",
     "output_type": "stream",
     "text": [
      "                       ExponentialSmoothing Model Results                       \n",
      "================================================================================\n",
      "Dep. Variable:        linear components   No. Observations:                  538\n",
      "Model:             ExponentialSmoothing   SSE                         248570.963\n",
      "Optimized:                         True   AIC                           3322.966\n",
      "Trend:                         Additive   BIC                           3370.133\n",
      "Seasonal:                      Additive   AICC                          3323.661\n",
      "Seasonal Periods:                     7   Date:                 Mon, 22 Mar 2021\n",
      "Box-Cox:                          False   Time:                         10:22:34\n",
      "Box-Cox Coeff.:                    None                                         \n",
      "=================================================================================\n",
      "                          coeff                 code              optimized      \n",
      "---------------------------------------------------------------------------------\n",
      "smoothing_level               0.9940082                alpha                 True\n",
      "smoothing_trend               0.0033395                 beta                 True\n",
      "smoothing_seasonal            0.0059176                gamma                 True\n",
      "initial_level                 21.119950                  l.0                 True\n",
      "initial_trend                -1.7190723                  b.0                 True\n",
      "initial_seasons.0            -10.076647                  s.0                 True\n",
      "initial_seasons.1            -10.011417                  s.1                 True\n",
      "initial_seasons.2            -8.4585961                  s.2                 True\n",
      "initial_seasons.3            -8.1881041                  s.3                 True\n",
      "initial_seasons.4            -9.6817061                  s.4                 True\n",
      "initial_seasons.5            -9.2033076                  s.5                 True\n",
      "initial_seasons.6            -8.4046658                  s.6                 True\n",
      "---------------------------------------------------------------------------------\n"
     ]
    }
   ],
   "source": [
    "\n",
    "(cA, cD) = pywt.dwt(lst, 'db2', 'smooth') # using db2 wavelet function to decompose data \n",
    "A = pywt.idwt(cA, None, 'db2', 'smooth') # using inverse wavelet to reconstruct linear components\n",
    "\n",
    "D = pywt.idwt(None, cD, 'db2', 'smooth') # using inverse wavelet to reconstruct non-linear components\n",
    "\n",
    "# lst_rec = A + D # reconstruction of lst i.e data before decomposition\n",
    "\n",
    "\n",
    "# %%\n",
    "d = { 'linear components': A} # constructing map with non-decomposed and decomposed data\n",
    "df = pd.DataFrame(d) # map -> data frame\n",
    "df.index = ind \n",
    "\n",
    "print (df)\n",
    "\n",
    "\n",
    "from statsmodels.tsa.holtwinters import ExponentialSmoothing as HWES\n",
    "df_train = df.iloc[:-12]\n",
    "df_test = df.iloc[-12:]\n",
    "model = HWES(df_train,  trend='add', seasonal='add')\n",
    "fitted = model.fit()\n",
    "print(fitted.summary())"
   ]
  },
  {
   "cell_type": "code",
   "execution_count": 2,
   "metadata": {},
   "outputs": [],
   "source": [
    "from statsmodels.tsa.arima.model import ARIMA"
   ]
  }
 ],
 "metadata": {
  "kernelspec": {
   "display_name": "Python 3",
   "language": "python",
   "name": "python3"
  },
  "language_info": {
   "codemirror_mode": {
    "name": "ipython",
    "version": 3
   },
   "file_extension": ".py",
   "mimetype": "text/x-python",
   "name": "python",
   "nbconvert_exporter": "python",
   "pygments_lexer": "ipython3",
   "version": "3.8.5"
  }
 },
 "nbformat": 4,
 "nbformat_minor": 4
}
